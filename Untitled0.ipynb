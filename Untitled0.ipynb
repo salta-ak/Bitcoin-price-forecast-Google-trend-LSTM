{
  "nbformat": 4,
  "nbformat_minor": 0,
  "metadata": {
    "colab": {
      "name": "Untitled0.ipynb",
      "provenance": [],
      "authorship_tag": "ABX9TyMEJrw7oQUWQHh0YvCzXEi9",
      "include_colab_link": true
    },
    "kernelspec": {
      "name": "python3",
      "display_name": "Python 3"
    }
  },
  "cells": [
    {
      "cell_type": "markdown",
      "metadata": {
        "id": "view-in-github",
        "colab_type": "text"
      },
      "source": [
        "<a href=\"https://colab.research.google.com/github/salta-ak/Bitcoin-price-forecast-Google-trend-LSTM/blob/main/Untitled0.ipynb\" target=\"_parent\"><img src=\"https://colab.research.google.com/assets/colab-badge.svg\" alt=\"Open In Colab\"/></a>"
      ]
    },
    {
      "cell_type": "code",
      "metadata": {
        "colab": {
          "base_uri": "https://localhost:8080/"
        },
        "id": "P6qmEKJ-N5F0",
        "outputId": "eb26050b-78bd-4894-b5bd-9e5ccf2fdead"
      },
      "source": [
        "!pip3 install keras-tuner -q"
      ],
      "execution_count": 4,
      "outputs": [
        {
          "output_type": "stream",
          "text": [
            "\u001b[?25l\r\u001b[K     |███▍                            | 10 kB 13.6 MB/s eta 0:00:01\r\u001b[K     |██████▉                         | 20 kB 11.7 MB/s eta 0:00:01\r\u001b[K     |██████████▏                     | 30 kB 9.3 MB/s eta 0:00:01\r\u001b[K     |█████████████▋                  | 40 kB 7.8 MB/s eta 0:00:01\r\u001b[K     |█████████████████               | 51 kB 5.2 MB/s eta 0:00:01\r\u001b[K     |████████████████████▍           | 61 kB 5.4 MB/s eta 0:00:01\r\u001b[K     |███████████████████████▊        | 71 kB 5.6 MB/s eta 0:00:01\r\u001b[K     |███████████████████████████▏    | 81 kB 6.2 MB/s eta 0:00:01\r\u001b[K     |██████████████████████████████▋ | 92 kB 6.3 MB/s eta 0:00:01\r\u001b[K     |████████████████████████████████| 96 kB 3.0 MB/s \n",
            "\u001b[?25h"
          ],
          "name": "stdout"
        }
      ]
    },
    {
      "cell_type": "code",
      "metadata": {
        "colab": {
          "base_uri": "https://localhost:8080/"
        },
        "id": "UJbV2aaUQfLk",
        "outputId": "9392e274-2b82-431b-afba-c71e82c32b2e"
      },
      "source": [
        "!pip3 install pytrends"
      ],
      "execution_count": 11,
      "outputs": [
        {
          "output_type": "stream",
          "text": [
            "Collecting pytrends\n",
            "  Downloading pytrends-4.7.3-py3-none-any.whl (14 kB)\n",
            "Requirement already satisfied: lxml in /usr/local/lib/python3.7/dist-packages (from pytrends) (4.2.6)\n",
            "Requirement already satisfied: requests in /usr/local/lib/python3.7/dist-packages (from pytrends) (2.23.0)\n",
            "Requirement already satisfied: pandas>=0.25 in /usr/local/lib/python3.7/dist-packages (from pytrends) (1.1.5)\n",
            "Requirement already satisfied: numpy>=1.15.4 in /usr/local/lib/python3.7/dist-packages (from pandas>=0.25->pytrends) (1.19.5)\n",
            "Requirement already satisfied: python-dateutil>=2.7.3 in /usr/local/lib/python3.7/dist-packages (from pandas>=0.25->pytrends) (2.8.2)\n",
            "Requirement already satisfied: pytz>=2017.2 in /usr/local/lib/python3.7/dist-packages (from pandas>=0.25->pytrends) (2018.9)\n",
            "Requirement already satisfied: six>=1.5 in /usr/local/lib/python3.7/dist-packages (from python-dateutil>=2.7.3->pandas>=0.25->pytrends) (1.15.0)\n",
            "Requirement already satisfied: certifi>=2017.4.17 in /usr/local/lib/python3.7/dist-packages (from requests->pytrends) (2021.5.30)\n",
            "Requirement already satisfied: urllib3!=1.25.0,!=1.25.1,<1.26,>=1.21.1 in /usr/local/lib/python3.7/dist-packages (from requests->pytrends) (1.24.3)\n",
            "Requirement already satisfied: idna<3,>=2.5 in /usr/local/lib/python3.7/dist-packages (from requests->pytrends) (2.10)\n",
            "Requirement already satisfied: chardet<4,>=3.0.2 in /usr/local/lib/python3.7/dist-packages (from requests->pytrends) (3.0.4)\n",
            "Installing collected packages: pytrends\n",
            "Successfully installed pytrends-4.7.3\n"
          ],
          "name": "stdout"
        }
      ]
    },
    {
      "cell_type": "code",
      "metadata": {
        "id": "JQKzXxKjHy1B"
      },
      "source": [
        "from tensorflow import keras\n",
        "import numpy as np\n",
        "import pandas as pd"
      ],
      "execution_count": 8,
      "outputs": []
    },
    {
      "cell_type": "code",
      "metadata": {
        "id": "fOXrox-xNovg"
      },
      "source": [
        "from keras_tuner import BayesianOptimization"
      ],
      "execution_count": 6,
      "outputs": []
    },
    {
      "cell_type": "code",
      "metadata": {
        "id": "KlwlcSBdOI4D"
      },
      "source": [
        "from tensorflow.keras import layers\n",
        "from keras_tuner import RandomSearch"
      ],
      "execution_count": 5,
      "outputs": []
    },
    {
      "cell_type": "code",
      "metadata": {
        "id": "tdhxIrYtOTKQ"
      },
      "source": [
        "import os\n",
        "import pandas as pd\n",
        "import numpy as np\n",
        "from pytrends.request import TrendReq\n",
        "pytrends = TrendReq(hl='en-US', tz=360)\n",
        "\n",
        "# Load data from with pytrend API\n",
        "\n",
        "\n",
        "filename=['bitcoin','covid','stock_price']\n",
        "kw_list = [\"bitcoin\",\"COVID-19\",\"stock price\"]\n",
        "btc_list=[\"bitcoin\",\"cryptocurrency\",\"blockchain+bitcoin\"]\n",
        "st_list=[\"stock+price\",\"stock+index\",\"futures+stock\"]\n",
        "cov_list=[\"Covid\",\"cough+covid\",\"symptoms+covid\"]\n",
        "kw_all=[kw_list,btc_list,st_list,cov_list]\n",
        "for i,j in zip(kw_all,filename):\n",
        "    pytrends.build_payload(i, cat=0, timeframe='today 5-y', geo='', gprop='')\n",
        "    data=pytrends.interest_over_time()\n",
        "    data=data.loc[~(data==0.0).all(axis=1)]\n",
        "    series = data.iloc[: , :-1].astype(float).sort_index()\n",
        "    series.to_csv('{}.csv'.format(j))\n",
        "    "
      ],
      "execution_count": 12,
      "outputs": []
    },
    {
      "cell_type": "code",
      "metadata": {
        "id": "NrfmivaeQqfW"
      },
      "source": [
        "df = pd.read_csv('bitcoin.csv', sep=',')"
      ],
      "execution_count": 13,
      "outputs": []
    },
    {
      "cell_type": "code",
      "metadata": {
        "id": "NszECi9hQwGB"
      },
      "source": [
        "df['date'] = pd.to_datetime(df['date'])\n",
        "df.set_index('date', inplace=True) "
      ],
      "execution_count": 14,
      "outputs": []
    },
    {
      "cell_type": "code",
      "metadata": {
        "id": "DYyyHKZAQ0-i"
      },
      "source": [
        "def create_dataset(data_series, look_back, split_frac, transforms):\n",
        "    \n",
        "    # log transforming that data, if necessary\n",
        "    \n",
        "    # differencing data, if necessary\n",
        "    if transforms[0] == True:\n",
        "        dates = data_series.index\n",
        "        data_series = pd.Series(data_series - data_series.shift(1), index=dates).dropna()\n",
        "\n",
        "    # scaling values between 0 and 1\n",
        "    dates = data_series.index\n",
        "    scaler = MinMaxScaler(feature_range=(0, 1))\n",
        "    scaled_data = scaler.fit_transform(data_series.values.reshape(-1, 1))\n",
        "    data_series = pd.Series(scaled_data[:, 0], index=dates)\n",
        "    \n",
        "    # creating targets and features by shifting values by 'i' number of time periods\n",
        "    df = pd.DataFrame()\n",
        "    for i in range(look_back+1):\n",
        "        label = ''.join(['t-', str(i)])\n",
        "        df[label] = data_series.shift(i)\n",
        "    df = df.dropna()\n",
        "    print(df.tail())\n",
        "    \n",
        "    # splitting data into train and test sets\n",
        "    size = int(split_frac*df.shape[0])\n",
        "    train = df[:size]\n",
        "    test = df[size:]\n",
        "    \n",
        "    # creating target and features for training set\n",
        "    X_train = train.iloc[:, 1:].values\n",
        "    y_train = train.iloc[:, 0].values\n",
        "    train_dates = train.index\n",
        "    \n",
        "    # creating target and features for test set\n",
        "    X_test = test.iloc[:, 1:].values\n",
        "    y_test = test.iloc[:, 0].values\n",
        "    test_dates = test.index\n",
        "    \n",
        "    # reshaping data into 3 dimensions for modeling with the LSTM neural net\n",
        "    X_train = np.reshape(X_train, (X_train.shape[0], 1, look_back))\n",
        "    X_test = np.reshape(X_test, (X_test.shape[0], 1, look_back))\n",
        "    \n",
        "    return X_train, y_train, X_test, y_test, train_dates, test_dates, scaler"
      ],
      "execution_count": 15,
      "outputs": []
    },
    {
      "cell_type": "code",
      "metadata": {
        "id": "OYYaYtpfRD8e"
      },
      "source": [
        "def inverse_transforms(train_predict, y_train, test_predict, y_test, data_series, train_dates, test_dates, scaler, transforms):\n",
        "    \n",
        "    # inverse 0 to 1 scaling\n",
        "    train_predict = pd.Series(scaler.inverse_transform(train_predict.reshape(-1,1))[:,0], index=train_dates)\n",
        "    y_train = pd.Series(scaler.inverse_transform(y_train.reshape(-1, 1))[:,0], index=train_dates)\n",
        "\n",
        "    test_predict = pd.Series(scaler.inverse_transform(test_predict.reshape(-1, 1))[:,0], index=test_dates)\n",
        "    y_test = pd.Series(scaler.inverse_transform(y_test.reshape(-1, 1))[:,0], index=test_dates)\n",
        "    if transforms[0] == True:\n",
        "        train_predict = pd.Series(train_predict + data_series.shift(1), index=train_dates).dropna()\n",
        "        y_train = pd.Series(y_train + data_series.shift(1), index=train_dates).dropna()\n",
        "\n",
        "        test_predict = pd.Series(test_predict + data_series.shift(1), index=test_dates).dropna()\n",
        "        y_test = pd.Series(y_test + data_series.shift(1), index=test_dates).dropna()\n",
        "        \n",
        "    return train_predict, y_train, test_predict, y_test"
      ],
      "execution_count": 16,
      "outputs": []
    },
    {
      "cell_type": "code",
      "metadata": {
        "id": "iEDMRvTSSa-8"
      },
      "source": [
        "import numpy as np\n",
        "import matplotlib.pyplot as plt\n",
        "from datetime import date, datetime, timedelta\n",
        "from pytrends.request import TrendReq\n",
        "import time\n",
        "import pandas as pd\n",
        "#import gtrend\n",
        "import math\n",
        "from tensorflow import keras\n",
        "from sklearn.preprocessing import MinMaxScaler\n",
        "from sklearn.metrics import mean_squared_error\n",
        "from tensorflow.keras.models import Sequential\n",
        "from tensorflow.keras.layers import Dense, Dropout\n",
        "from tensorflow.keras.layers import LSTM\n",
        "from datetime import timedelta"
      ],
      "execution_count": 17,
      "outputs": []
    },
    {
      "cell_type": "code",
      "metadata": {
        "colab": {
          "base_uri": "https://localhost:8080/"
        },
        "id": "syfTNBJNRNoC",
        "outputId": "b4afeea1-3567-42b0-9731-799a3c2f5c84"
      },
      "source": [
        "#preparing our training and test dataset\n",
        "look_back = 12\n",
        "print(\"\\n -------------------------------- \\n Training Data \\n -------------------------------- \\n \")\n",
        "X_train, y_train, X_test, y_test, train_dates, test_dates, scaler = create_dataset(df.bitcoin, look_back, 0.9, [True])\n"
      ],
      "execution_count": 73,
      "outputs": [
        {
          "output_type": "stream",
          "text": [
            "\n",
            " -------------------------------- \n",
            " Training Data \n",
            " -------------------------------- \n",
            " \n",
            "                 t-0       t-1       t-2  ...      t-10      t-11      t-12\n",
            "date                                      ...                              \n",
            "2021-07-11  0.472973  0.405405  0.310811  ...  0.378378  0.283784  0.648649\n",
            "2021-07-18  0.513514  0.472973  0.405405  ...  0.662162  0.378378  0.283784\n",
            "2021-07-25  0.554054  0.513514  0.472973  ...  0.905405  0.662162  0.378378\n",
            "2021-08-01  0.378378  0.554054  0.513514  ...  0.175676  0.905405  0.662162\n",
            "2021-08-08  0.527027  0.378378  0.554054  ...  0.243243  0.175676  0.905405\n",
            "\n",
            "[5 rows x 13 columns]\n"
          ],
          "name": "stdout"
        }
      ]
    },
    {
      "cell_type": "code",
      "metadata": {
        "id": "meRbXYBQSfCt"
      },
      "source": [
        "from tensorflow.keras import layers\n",
        "from keras_tuner import RandomSearch\n",
        "look_back = 12\n",
        "\n",
        "\n",
        "def build_model(hp):\n",
        "    model = keras.Sequential()\n",
        "    for i in range(hp.Int(\"num_layers\", 2, 4)):\n",
        "        model.add(LSTM(units=hp.Int(\"units_\" + str(i), min_value=8, max_value=60, step=8),return_sequences=True ))\n",
        "        model.add(Dense(units=hp.Int(\"units_\" + str(i), min_value=8, max_value=60, step=8)))\n",
        "    model.add(Dense(1))\n",
        "    model.compile(\n",
        "        optimizer=keras.optimizers.Adam(hp.Choice(\"learning_rate\", [1e-2, 1e-3, 1e-4])),\n",
        "        loss=\"mean_squared_error\",\n",
        "        metrics=[\"mean_squared_error\"],\n",
        "    )\n",
        "    return model"
      ],
      "execution_count": 74,
      "outputs": []
    },
    {
      "cell_type": "code",
      "metadata": {
        "id": "2XvME3LJSt43"
      },
      "source": [
        "tuner = RandomSearch(\n",
        "    build_model,\n",
        "    objective=\"mean_squared_error\",\n",
        "    max_trials=3,\n",
        "    executions_per_trial=1,\n",
        "    overwrite=True,\n",
        "    directory=\"my_dir\",\n",
        "    project_name=\"helloworld\",\n",
        ")"
      ],
      "execution_count": 76,
      "outputs": []
    },
    {
      "cell_type": "code",
      "metadata": {
        "colab": {
          "base_uri": "https://localhost:8080/"
        },
        "id": "vTQ8cf4IU0d-",
        "outputId": "231db0c5-7231-4169-c871-c3f2244864e9"
      },
      "source": [
        "tuner.search_space_summary()"
      ],
      "execution_count": 77,
      "outputs": [
        {
          "output_type": "stream",
          "text": [
            "Search space summary\n",
            "Default search space size: 4\n",
            "num_layers (Int)\n",
            "{'default': None, 'conditions': [], 'min_value': 2, 'max_value': 4, 'step': 1, 'sampling': None}\n",
            "units_0 (Int)\n",
            "{'default': None, 'conditions': [], 'min_value': 8, 'max_value': 60, 'step': 8, 'sampling': None}\n",
            "units_1 (Int)\n",
            "{'default': None, 'conditions': [], 'min_value': 8, 'max_value': 60, 'step': 8, 'sampling': None}\n",
            "learning_rate (Choice)\n",
            "{'default': 0.01, 'conditions': [], 'values': [0.01, 0.001, 0.0001], 'ordered': True}\n"
          ],
          "name": "stdout"
        }
      ]
    },
    {
      "cell_type": "code",
      "metadata": {
        "colab": {
          "base_uri": "https://localhost:8080/"
        },
        "id": "Yt99I7UkVMlI",
        "outputId": "8dc83d9d-fbc3-45d6-d335-dafe56ffed42"
      },
      "source": [
        "tuner.search(X_train, y_train, epochs=1, validation_data=(X_test, y_test))"
      ],
      "execution_count": 78,
      "outputs": [
        {
          "output_type": "stream",
          "text": [
            "Trial 3 Complete [00h 00m 12s]\n",
            "mean_squared_error: 0.1970694661140442\n",
            "\n",
            "Best mean_squared_error So Far: 0.08750657737255096\n",
            "Total elapsed time: 00h 00m 35s\n",
            "INFO:tensorflow:Oracle triggered exit\n"
          ],
          "name": "stdout"
        }
      ]
    },
    {
      "cell_type": "code",
      "metadata": {
        "id": "hTQ-aKK7_yMn"
      },
      "source": [
        "best_hps = tuner.get_best_hyperparameters(num_trials = 1)[0]"
      ],
      "execution_count": 79,
      "outputs": []
    },
    {
      "cell_type": "code",
      "metadata": {
        "id": "2KiMqEPF_Gqt"
      },
      "source": [
        "model=tuner.hypermodel.build(best_hps)"
      ],
      "execution_count": 80,
      "outputs": []
    },
    {
      "cell_type": "code",
      "metadata": {
        "colab": {
          "base_uri": "https://localhost:8080/"
        },
        "id": "C5iPlpW90DT0",
        "outputId": "9ce7851e-35d7-4eb4-bd1e-6ecf6bfbe11d"
      },
      "source": [
        "model2 = model.fit(X_train, y_train, validation_data=(X_test, y_test), epochs=10, batch_size=1, verbose=2)"
      ],
      "execution_count": 81,
      "outputs": [
        {
          "output_type": "stream",
          "text": [
            "Epoch 1/10\n",
            "222/222 - 6s - loss: 0.0120 - mean_squared_error: 0.0120 - val_loss: 0.0248 - val_mean_squared_error: 0.0248\n",
            "Epoch 2/10\n",
            "222/222 - 1s - loss: 0.0100 - mean_squared_error: 0.0100 - val_loss: 0.0254 - val_mean_squared_error: 0.0254\n",
            "Epoch 3/10\n",
            "222/222 - 1s - loss: 0.0090 - mean_squared_error: 0.0090 - val_loss: 0.0261 - val_mean_squared_error: 0.0261\n",
            "Epoch 4/10\n",
            "222/222 - 1s - loss: 0.0088 - mean_squared_error: 0.0088 - val_loss: 0.0273 - val_mean_squared_error: 0.0273\n",
            "Epoch 5/10\n",
            "222/222 - 1s - loss: 0.0091 - mean_squared_error: 0.0091 - val_loss: 0.0247 - val_mean_squared_error: 0.0247\n",
            "Epoch 6/10\n",
            "222/222 - 1s - loss: 0.0085 - mean_squared_error: 0.0085 - val_loss: 0.0253 - val_mean_squared_error: 0.0253\n",
            "Epoch 7/10\n",
            "222/222 - 1s - loss: 0.0077 - mean_squared_error: 0.0077 - val_loss: 0.0263 - val_mean_squared_error: 0.0263\n",
            "Epoch 8/10\n",
            "222/222 - 1s - loss: 0.0074 - mean_squared_error: 0.0074 - val_loss: 0.0247 - val_mean_squared_error: 0.0247\n",
            "Epoch 9/10\n",
            "222/222 - 1s - loss: 0.0082 - mean_squared_error: 0.0082 - val_loss: 0.0250 - val_mean_squared_error: 0.0250\n",
            "Epoch 10/10\n",
            "222/222 - 1s - loss: 0.0076 - mean_squared_error: 0.0076 - val_loss: 0.0247 - val_mean_squared_error: 0.0247\n"
          ],
          "name": "stdout"
        }
      ]
    },
    {
      "cell_type": "code",
      "metadata": {
        "colab": {
          "base_uri": "https://localhost:8080/"
        },
        "id": "fP0JouiLA67j",
        "outputId": "e2d0c1df-2326-4c59-f442-b64dc1ca6b1a"
      },
      "source": [
        "# making predictions\n",
        "train_predict = model.predict(X_train)\n",
        "test_predict = model.predict(X_test)\n",
        "    \n",
        "# inverse transforming results\n",
        "train_predict, y_train, test_predict, y_test = \\\n",
        "inverse_transforms(train_predict, y_train, test_predict, y_test, df.bitcoin, train_dates, test_dates, scaler, [True])\n",
        "    \n",
        "print(\"\\n -------------------------------- \\n RMSE \\n -------------------------------- \\n\")\n",
        "error = np.sqrt(mean_squared_error(train_predict, y_train))\n",
        "print('Train RMSE: %.3f' % error)\n",
        "error = np.sqrt(mean_squared_error(test_predict, y_test))\n",
        "print('Test RMSE: %.3f' % error)\n"
      ],
      "execution_count": 82,
      "outputs": [
        {
          "output_type": "stream",
          "text": [
            "\n",
            " -------------------------------- \n",
            " RMSE \n",
            " -------------------------------- \n",
            "\n",
            "Train RMSE: 6.437\n",
            "Test RMSE: 11.620\n"
          ],
          "name": "stdout"
        }
      ]
    },
    {
      "cell_type": "code",
      "metadata": {
        "colab": {
          "base_uri": "https://localhost:8080/",
          "height": 305
        },
        "id": "KrP7w0X7TMaP",
        "outputId": "3e543c1f-0bf1-41ae-f415-e1a2650c23df"
      },
      "source": [
        "def visualize_loss(model, title):\n",
        "    loss = model2[\"loss\"]\n",
        "    val_loss = model2[\"val_loss\"]\n",
        "    epochs = range(len(loss))\n",
        "    plt.figure()\n",
        "    plt.plot(epochs, loss, \"b\", label=\"Training loss\")\n",
        "    plt.plot(epochs, val_loss, \"r\", label=\"Validation loss\")\n",
        "    plt.title(title)\n",
        "    plt.xlabel(\"Epochs\")\n",
        "    plt.ylabel(\"Loss\")\n",
        "    plt.legend()\n",
        "    plt.show()\n",
        "\n",
        "\n",
        "visualize_loss(model, \"Training and Validation Loss\")"
      ],
      "execution_count": 87,
      "outputs": [
        {
          "output_type": "error",
          "ename": "TypeError",
          "evalue": "ignored",
          "traceback": [
            "\u001b[0;31m---------------------------------------------------------------------------\u001b[0m",
            "\u001b[0;31mTypeError\u001b[0m                                 Traceback (most recent call last)",
            "\u001b[0;32m<ipython-input-87-693624d7f452>\u001b[0m in \u001b[0;36m<module>\u001b[0;34m()\u001b[0m\n\u001b[1;32m     13\u001b[0m \u001b[0;34m\u001b[0m\u001b[0m\n\u001b[1;32m     14\u001b[0m \u001b[0;34m\u001b[0m\u001b[0m\n\u001b[0;32m---> 15\u001b[0;31m \u001b[0mvisualize_loss\u001b[0m\u001b[0;34m(\u001b[0m\u001b[0mmodel\u001b[0m\u001b[0;34m,\u001b[0m \u001b[0;34m\"Training and Validation Loss\"\u001b[0m\u001b[0;34m)\u001b[0m\u001b[0;34m\u001b[0m\u001b[0;34m\u001b[0m\u001b[0m\n\u001b[0m",
            "\u001b[0;32m<ipython-input-87-693624d7f452>\u001b[0m in \u001b[0;36mvisualize_loss\u001b[0;34m(model, title)\u001b[0m\n\u001b[1;32m      1\u001b[0m \u001b[0;32mdef\u001b[0m \u001b[0mvisualize_loss\u001b[0m\u001b[0;34m(\u001b[0m\u001b[0mmodel\u001b[0m\u001b[0;34m,\u001b[0m \u001b[0mtitle\u001b[0m\u001b[0;34m)\u001b[0m\u001b[0;34m:\u001b[0m\u001b[0;34m\u001b[0m\u001b[0;34m\u001b[0m\u001b[0m\n\u001b[0;32m----> 2\u001b[0;31m     \u001b[0mloss\u001b[0m \u001b[0;34m=\u001b[0m \u001b[0mmodel2\u001b[0m\u001b[0;34m[\u001b[0m\u001b[0;34m\"loss\"\u001b[0m\u001b[0;34m]\u001b[0m\u001b[0;34m\u001b[0m\u001b[0;34m\u001b[0m\u001b[0m\n\u001b[0m\u001b[1;32m      3\u001b[0m     \u001b[0mval_loss\u001b[0m \u001b[0;34m=\u001b[0m \u001b[0mmodel2\u001b[0m\u001b[0;34m[\u001b[0m\u001b[0;34m\"val_loss\"\u001b[0m\u001b[0;34m]\u001b[0m\u001b[0;34m\u001b[0m\u001b[0;34m\u001b[0m\u001b[0m\n\u001b[1;32m      4\u001b[0m     \u001b[0mepochs\u001b[0m \u001b[0;34m=\u001b[0m \u001b[0mrange\u001b[0m\u001b[0;34m(\u001b[0m\u001b[0mlen\u001b[0m\u001b[0;34m(\u001b[0m\u001b[0mloss\u001b[0m\u001b[0;34m)\u001b[0m\u001b[0;34m)\u001b[0m\u001b[0;34m\u001b[0m\u001b[0;34m\u001b[0m\u001b[0m\n\u001b[1;32m      5\u001b[0m     \u001b[0mplt\u001b[0m\u001b[0;34m.\u001b[0m\u001b[0mfigure\u001b[0m\u001b[0;34m(\u001b[0m\u001b[0;34m)\u001b[0m\u001b[0;34m\u001b[0m\u001b[0;34m\u001b[0m\u001b[0m\n",
            "\u001b[0;31mTypeError\u001b[0m: 'History' object is not subscriptable"
          ]
        }
      ]
    }
  ]
}